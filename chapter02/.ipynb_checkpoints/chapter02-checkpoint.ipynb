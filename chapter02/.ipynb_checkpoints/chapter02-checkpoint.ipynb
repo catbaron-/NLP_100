{
 "cells": [
  {
   "cell_type": "code",
   "execution_count": 1,
   "metadata": {
    "collapsed": false
   },
   "outputs": [
    {
     "name": "stdout",
     "output_type": "stream",
     "text": [
      "24\n"
     ]
    }
   ],
   "source": [
    "# 10. 行数のカウント\n",
    "# 行数をカウントせよ．確認にはwcコマンドを用いよ．\n",
    "\n",
    "def line_count():\n",
    "    with open(\"./hightemp.txt\",'r', encoding='utf-8') as f:\n",
    "        data = f.readlines()\n",
    "    return len(data)\n",
    "\n",
    "if __name__=='__main__':\n",
    "    print(line_count())"
   ]
  },
  {
   "cell_type": "code",
   "execution_count": 6,
   "metadata": {
    "collapsed": true
   },
   "outputs": [],
   "source": [
    "# 11. タブをスペースに置換\n",
    "# タブ1文字につきスペース1文字に置換せよ．確認にはsedコマンド，trコマンド，もしくはexpandコマンドを用いよ．\n",
    "\n",
    "def replace_tab(f):\n",
    "    res = []\n",
    "    for line in f:\n",
    "        res.append(line.replace(\"\\t\", \" \"))\n",
    "    return ''.join(res)\n",
    "\n",
    "def replace_tabs_in_file():\n",
    "    with open(\"hightemp.txt\", \"r\", encoding=\"utf-8\") as f:\n",
    "        new_ctnt = replace_tab(f)\n",
    "    with open(\"hightemp_space.txt\", \"w\", encoding=\"utf-8\") as f:\n",
    "        f.write(new_ctnt)\n",
    "\n",
    "if __name__ == '__main__':\n",
    "    replace_tabs_in_file()"
   ]
  },
  {
   "cell_type": "code",
   "execution_count": 4,
   "metadata": {
    "collapsed": true
   },
   "outputs": [],
   "source": [
    "# 12. 1列目をcol1.txtに，2列目をcol2.txtに保存\n",
    "# 各行の1列目だけを抜き出したものをcol1.txtに，2列目だけを抜き出したものをcol2.txtとしてファイルに保存せよ．確認にはcutコマンドを用いよ\n",
    "\n",
    "import re\n",
    "\n",
    "def cut_columns():\n",
    "    col1, col2 = [], []\n",
    "    with open(\"hightemp.txt\", \"r\", encoding=\"utf-8\") as f:\n",
    "        for line in f:\n",
    "            cols = line.split(\"\\t\")\n",
    "            col1.append(cols[0])\n",
    "            col2.append(cols[1])\n",
    "\n",
    "    with open(\"col1.txt\", \"w\", encoding=\"utf-8\") as f:\n",
    "        f.write(\"\\n\".join(col1))\n",
    "\n",
    "    with open(\"col2.txt\", \"w\", encoding=\"utf-8\") as f:\n",
    "        f.write(\"\\n\".join(col2))\n",
    "\n",
    "if __name__ == '__main__':\n",
    "    cut_columns()"
   ]
  },
  {
   "cell_type": "code",
   "execution_count": 3,
   "metadata": {
    "collapsed": true
   },
   "outputs": [],
   "source": [
    "# 13. col1.txtとcol2.txtをマージ\n",
    "# 12で作ったcol1.txtとcol2.txtを結合し，元のファイルの1列目と2列目をタブ区切りで並べたテキストファイルを作成せよ．確認にはpasteコマンドを用いよ．\n",
    "\n",
    "f1 = open(\"col1.txt\", \"r\", encoding=\"utf-8\")\n",
    "f2 = open(\"col2.txt\", \"r\", encoding=\"utf-8\")\n",
    "f = open(\"merge.txt\", \"w\", encoding=\"utf-8\")\n",
    "\n",
    "col1 = f1.readline()\n",
    "col2 = f2.readline()\n",
    "while col1 and col2:\n",
    "    f.write(col1.strip()+\"\\t\"+col2)\n",
    "    col1 = f1.readline()\n",
    "    col2 = f2.readline()\n",
    "\n",
    "f1.close()\n",
    "f2.close()\n",
    "f.close()"
   ]
  },
  {
   "cell_type": "code",
   "execution_count": 2,
   "metadata": {
    "collapsed": false
   },
   "outputs": [
    {
     "name": "stdout",
     "output_type": "stream",
     "text": [
      "高知県\t江川崎\t41\t2013-08-12\n",
      "埼玉県\t熊谷\t40.9\t2007-08-16\n",
      "岐阜県\t多治見\t40.9\t2007-08-16\n",
      "山形県\t山形\t40.8\t1933-07-25\n",
      "山梨県\t甲府\t40.7\t2013-08-10\n",
      "和歌山県\tかつらぎ\t40.6\t1994-08-08\n",
      "静岡県\t天竜\t40.6\t1994-08-04\n",
      "山梨県\t勝沼\t40.5\t2013-08-10\n",
      "埼玉県\t越谷\t40.4\t2007-08-16\n",
      "群馬県\t館林\t40.3\t2007-08-16\n",
      "群馬県\t上里見\t40.3\t1998-07-04\n",
      "愛知県\t愛西\t40.3\t1994-08-05\n",
      "千葉県\t牛久\t40.2\t2004-07-20\n",
      "静岡県\t佐久間\t40.2\t2001-07-24\n",
      "愛媛県\t宇和島\t40.2\t1927-07-22\n",
      "山形県\t酒田\t40.1\t1978-08-03\n",
      "岐阜県\t美濃\t40\t2007-08-16\n",
      "群馬県\t前橋\t40\t2001-07-24\n",
      "千葉県\t茂原\t39.9\t2013-08-11\n",
      "埼玉県\t鳩山\t39.9\t1997-07-05\n",
      "大阪府\t豊中\t39.9\t1994-08-08\n",
      "山梨県\t大月\t39.9\t1990-07-19\n",
      "山形県\t鶴岡\t39.9\t1978-08-03\n",
      "愛知県\t名古屋\t39.9\t1942-08-02\n"
     ]
    }
   ],
   "source": [
    "# 14. 先頭からN行を出力\n",
    "# 自然数Nをコマンドライン引数などの手段で受け取り，入力のうち先頭のN行だけを表示せよ．確認にはheadコマンドを用いよ．\n",
    "\n",
    "def head(f, n):\n",
    "    for i in range(n):\n",
    "        line = f.readline().strip()\n",
    "        if not line:\n",
    "            break\n",
    "        print(line)\n",
    "\n",
    "def show_head_n(n):\n",
    "    with open(\"hightemp.txt\", \"r\", encoding=\"utf-8\") as f:\n",
    "        head(f, n)\n",
    "\n",
    "if __name__ == '__main__':\n",
    "    show_head_n(24)"
   ]
  },
  {
   "cell_type": "code",
   "execution_count": 1,
   "metadata": {
    "collapsed": false
   },
   "outputs": [
    {
     "name": "stdout",
     "output_type": "stream",
     "text": [
      "愛媛県\t宇和島\t40.2\t1927-07-22\n",
      "山形県\t酒田\t40.1\t1978-08-03\n",
      "岐阜県\t美濃\t40\t2007-08-16\n",
      "群馬県\t前橋\t40\t2001-07-24\n",
      "千葉県\t茂原\t39.9\t2013-08-11\n",
      "埼玉県\t鳩山\t39.9\t1997-07-05\n",
      "大阪府\t豊中\t39.9\t1994-08-08\n",
      "山梨県\t大月\t39.9\t1990-07-19\n",
      "山形県\t鶴岡\t39.9\t1978-08-03\n",
      "愛知県\t名古屋\t39.9\t1942-08-02\n"
     ]
    }
   ],
   "source": [
    "# 15. 末尾のN行を出力\n",
    "# 自然数Nをコマンドライン引数などの手段で受け取り，入力のうち末尾のN行だけを表示せよ．確認にはtailコマンドを用いよ．\n",
    "\n",
    "def tail(f, n):\n",
    "    return f.readlines()[-n:]\n",
    "\n",
    "def show_tail_n(n):\n",
    "    with open(\"hightemp.txt\", \"r\", encoding=\"utf-8\") as f:\n",
    "        lines = tail(f, n)\n",
    "        for line in lines:\n",
    "            print(line.strip())\n",
    "\n",
    "if __name__ == '__main__':\n",
    "    show_tail_n(10)"
   ]
  },
  {
   "cell_type": "code",
   "execution_count": 4,
   "metadata": {
    "collapsed": false
   },
   "outputs": [
    {
     "ename": "ValueError",
     "evalue": "invalid literal for int() with base 10: '-f'",
     "output_type": "error",
     "traceback": [
      "\u001b[0;31m------------------------------------------------------------------\u001b[0m",
      "\u001b[0;31mValueError\u001b[0m                       Traceback (most recent call last)",
      "\u001b[0;32m<ipython-input-4-3ee516823822>\u001b[0m in \u001b[0;36m<module>\u001b[0;34m()\u001b[0m\n\u001b[1;32m     18\u001b[0m \u001b[0;34m\u001b[0m\u001b[0m\n\u001b[1;32m     19\u001b[0m \u001b[0;32mif\u001b[0m \u001b[0m__name__\u001b[0m \u001b[0;34m==\u001b[0m \u001b[0;34m'__main__'\u001b[0m\u001b[0;34m:\u001b[0m\u001b[0;34m\u001b[0m\u001b[0m\n\u001b[0;32m---> 20\u001b[0;31m     \u001b[0mmain\u001b[0m\u001b[0;34m(\u001b[0m\u001b[0;34m)\u001b[0m\u001b[0;34m\u001b[0m\u001b[0m\n\u001b[0m",
      "\u001b[0;32m<ipython-input-4-3ee516823822>\u001b[0m in \u001b[0;36mmain\u001b[0;34m()\u001b[0m\n\u001b[1;32m     15\u001b[0m \u001b[0;34m\u001b[0m\u001b[0m\n\u001b[1;32m     16\u001b[0m \u001b[0;32mdef\u001b[0m \u001b[0mmain\u001b[0m\u001b[0;34m(\u001b[0m\u001b[0;34m)\u001b[0m\u001b[0;34m:\u001b[0m\u001b[0;34m\u001b[0m\u001b[0m\n\u001b[0;32m---> 17\u001b[0;31m     \u001b[0msplit_file\u001b[0m\u001b[0;34m(\u001b[0m\u001b[0;34m\"hightemp.txt\"\u001b[0m\u001b[0;34m,\u001b[0m\u001b[0mint\u001b[0m\u001b[0;34m(\u001b[0m\u001b[0msys\u001b[0m\u001b[0;34m.\u001b[0m\u001b[0margv\u001b[0m\u001b[0;34m[\u001b[0m\u001b[0;36m1\u001b[0m\u001b[0;34m]\u001b[0m\u001b[0;34m)\u001b[0m\u001b[0;34m)\u001b[0m\u001b[0;34m\u001b[0m\u001b[0m\n\u001b[0m\u001b[1;32m     18\u001b[0m \u001b[0;34m\u001b[0m\u001b[0m\n\u001b[1;32m     19\u001b[0m \u001b[0;32mif\u001b[0m \u001b[0m__name__\u001b[0m \u001b[0;34m==\u001b[0m \u001b[0;34m'__main__'\u001b[0m\u001b[0;34m:\u001b[0m\u001b[0;34m\u001b[0m\u001b[0m\n",
      "\u001b[0;31mValueError\u001b[0m: invalid literal for int() with base 10: '-f'"
     ]
    }
   ],
   "source": [
    "# 16. ファイルをN分割する\n",
    "# 自然数Nをコマンドライン引数などの手段で受け取り，入力のファイルを行単位でN分割せよ．同様の処理をsplitコマンドで実現せよ．\n",
    "\n",
    "import sys,math\n",
    "def split_file(filename, n=10):\n",
    "    with open(filename, 'r', encoding='utf-8') as f:\n",
    "        lines = f.readlines()\n",
    "    l = math.ceil(len(lines)/2) # ファイルの長さ\n",
    "    file_number = 0 # 第　l　番目のファイルを作る\n",
    "    for i in range(len(lines))[::l]:\n",
    "        with open(filename+\".\"+str(file_number), 'w', encoding='utf-8') as f:\n",
    "            for line in lines[i:i+l]:\n",
    "                f.write(line)\n",
    "        file_number = file_number+1\n",
    "\n",
    "def main():\n",
    "    split_file(\"hightemp.txt\",int(sys.argv[1]))\n",
    "\n",
    "if __name__ == '__main__':\n",
    "    main()"
   ]
  }
 ],
 "metadata": {
  "kernelspec": {
   "display_name": "Python 3",
   "language": "python",
   "name": "python3"
  },
  "language_info": {
   "codemirror_mode": {
    "name": "ipython",
    "version": 3
   },
   "file_extension": ".py",
   "mimetype": "text/x-python",
   "name": "python",
   "nbconvert_exporter": "python",
   "pygments_lexer": "ipython3",
   "version": "3.6.0"
  }
 },
 "nbformat": 4,
 "nbformat_minor": 2
}
